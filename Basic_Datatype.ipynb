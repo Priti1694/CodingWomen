{
  "nbformat": 4,
  "nbformat_minor": 0,
  "metadata": {
    "colab": {
      "name": "Untitled3.ipynb",
      "provenance": [],
      "authorship_tag": "ABX9TyP2mFy6PgmOTj4SpSKkGfoI",
      "include_colab_link": true
    },
    "kernelspec": {
      "name": "python3",
      "display_name": "Python 3"
    }
  },
  "cells": [
    {
      "cell_type": "markdown",
      "metadata": {
        "id": "view-in-github",
        "colab_type": "text"
      },
      "source": [
        "<a href=\"https://colab.research.google.com/github/Priti1694/CodingWomen/blob/master/Basic_Datatype.ipynb\" target=\"_parent\"><img src=\"https://colab.research.google.com/assets/colab-badge.svg\" alt=\"Open In Colab\"/></a>"
      ]
    },
    {
      "cell_type": "code",
      "metadata": {
        "id": "dfmi2nlTSHas"
      },
      "source": [
        "from IPython.core.interactiveshell import InteractiveShell\r\n",
        "InteractiveShell.ast_node_interactivity=\"all\""
      ],
      "execution_count": 5,
      "outputs": []
    },
    {
      "cell_type": "markdown",
      "metadata": {
        "id": "0-5TS81vbx6I"
      },
      "source": [
        "Basic data types"
      ]
    },
    {
      "cell_type": "code",
      "metadata": {
        "id": "uciwivRHTUdI"
      },
      "source": [
        "x=[1,\"b\",3]"
      ],
      "execution_count": 6,
      "outputs": []
    },
    {
      "cell_type": "code",
      "metadata": {
        "colab": {
          "base_uri": "https://localhost:8080/",
          "height": 35
        },
        "id": "YiRF8lvzTaEO",
        "outputId": "011985a3-f34c-4473-c9ed-9ff73c8249ee"
      },
      "source": [
        "x[1]"
      ],
      "execution_count": 13,
      "outputs": [
        {
          "output_type": "execute_result",
          "data": {
            "application/vnd.google.colaboratory.intrinsic+json": {
              "type": "string"
            },
            "text/plain": [
              "'b'"
            ]
          },
          "metadata": {
            "tags": []
          },
          "execution_count": 13
        }
      ]
    },
    {
      "cell_type": "code",
      "metadata": {
        "colab": {
          "base_uri": "https://localhost:8080/"
        },
        "id": "BhbpBMKiTeO2",
        "outputId": "aa6d9710-5981-41cc-bf18-d61784fd4068"
      },
      "source": [
        "student_dict={\"S-1\":[\"IBM\",\"TCS\"],\"S_2\":[\"HP\"],\"S_3\":[\"Benz\"]}\r\n",
        "student_dict"
      ],
      "execution_count": 9,
      "outputs": [
        {
          "output_type": "execute_result",
          "data": {
            "text/plain": [
              "{'S-1': ['IBM', 'TCS'], 'S_2': ['HP'], 'S_3': ['Benz']}"
            ]
          },
          "metadata": {
            "tags": []
          },
          "execution_count": 9
        }
      ]
    },
    {
      "cell_type": "code",
      "metadata": {
        "colab": {
          "base_uri": "https://localhost:8080/"
        },
        "id": "r0MVGr2YWrtR",
        "outputId": "289112fd-7717-43ca-8432-bb0f7f369794"
      },
      "source": [
        "[val for k,val in student_dict.items()]"
      ],
      "execution_count": 11,
      "outputs": [
        {
          "output_type": "execute_result",
          "data": {
            "text/plain": [
              "[['IBM', 'TCS'], ['HP'], ['Benz']]"
            ]
          },
          "metadata": {
            "tags": []
          },
          "execution_count": 11
        }
      ]
    },
    {
      "cell_type": "code",
      "metadata": {
        "id": "CtFYyctxXJWZ"
      },
      "source": [
        "x = [\"abe\",1,\"c\"]"
      ],
      "execution_count": 22,
      "outputs": []
    },
    {
      "cell_type": "code",
      "metadata": {
        "id": "hMXDkBtlXMR3"
      },
      "source": [
        "dist_ex = {\"S1\":[\"HCL\",\"TCS\"],\"S2\":[\"Benz\"]}"
      ],
      "execution_count": 29,
      "outputs": []
    },
    {
      "cell_type": "code",
      "metadata": {
        "colab": {
          "base_uri": "https://localhost:8080/",
          "height": 35
        },
        "id": "RMgXduSLZreU",
        "outputId": "2fe19e5c-f10a-4a53-8de2-41771d69dbad"
      },
      "source": [
        "dist_ex[\"S1\"][1]"
      ],
      "execution_count": 31,
      "outputs": [
        {
          "output_type": "execute_result",
          "data": {
            "application/vnd.google.colaboratory.intrinsic+json": {
              "type": "string"
            },
            "text/plain": [
              "'TCS'"
            ]
          },
          "metadata": {
            "tags": []
          },
          "execution_count": 31
        }
      ]
    },
    {
      "cell_type": "code",
      "metadata": {
        "colab": {
          "base_uri": "https://localhost:8080/"
        },
        "id": "IL6RK_ulYScH",
        "outputId": "8c1c2497-9981-4028-8658-cfabc70b19d9"
      },
      "source": [
        "for k, v in dist_ex.items():\r\n",
        "    if k == \"S1\":\r\n",
        "        print(k)"
      ],
      "execution_count": 32,
      "outputs": [
        {
          "output_type": "stream",
          "text": [
            "S1\n"
          ],
          "name": "stdout"
        }
      ]
    },
    {
      "cell_type": "code",
      "metadata": {
        "id": "WIWgdfi9bLg2"
      },
      "source": [
        ""
      ],
      "execution_count": null,
      "outputs": []
    },
    {
      "cell_type": "code",
      "metadata": {
        "id": "5wU744YfY_4L"
      },
      "source": [
        "x.append(\"h\")"
      ],
      "execution_count": 23,
      "outputs": []
    },
    {
      "cell_type": "code",
      "metadata": {
        "colab": {
          "base_uri": "https://localhost:8080/"
        },
        "id": "9RtJc60AZFat",
        "outputId": "2ee9b82f-2a3c-46f9-c181-6e31242a0be1"
      },
      "source": [
        "x"
      ],
      "execution_count": 24,
      "outputs": [
        {
          "output_type": "execute_result",
          "data": {
            "text/plain": [
              "['abe', 1, 'c', 'h']"
            ]
          },
          "metadata": {
            "tags": []
          },
          "execution_count": 24
        }
      ]
    },
    {
      "cell_type": "code",
      "metadata": {
        "colab": {
          "base_uri": "https://localhost:8080/"
        },
        "id": "2EL0i-IEZMoE",
        "outputId": "af5cc97b-d2c4-49f2-d4a5-cc086d8f6e74"
      },
      "source": [
        "tup_ex=(1,2,3,4)\r\n",
        "tup_ex"
      ],
      "execution_count": 26,
      "outputs": [
        {
          "output_type": "execute_result",
          "data": {
            "text/plain": [
              "(1, 2, 3, 4)"
            ]
          },
          "metadata": {
            "tags": []
          },
          "execution_count": 26
        }
      ]
    },
    {
      "cell_type": "code",
      "metadata": {
        "id": "G_r-6TtYZkq3"
      },
      "source": [
        "import pandas as pd"
      ],
      "execution_count": 33,
      "outputs": []
    }
  ]
}