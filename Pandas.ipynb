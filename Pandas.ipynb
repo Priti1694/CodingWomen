{
  "nbformat": 4,
  "nbformat_minor": 0,
  "metadata": {
    "colab": {
      "name": "Untitled0.ipynb",
      "provenance": [],
      "authorship_tag": "ABX9TyPSfxEHgEdKt6n8zbRHmzr2",
      "include_colab_link": true
    },
    "kernelspec": {
      "name": "python3",
      "display_name": "Python 3"
    }
  },
  "cells": [
    {
      "cell_type": "markdown",
      "metadata": {
        "id": "view-in-github",
        "colab_type": "text"
      },
      "source": [
        "<a href=\"https://colab.research.google.com/github/Priti1694/CodingWomen/blob/master/Pandas.ipynb\" target=\"_parent\"><img src=\"https://colab.research.google.com/assets/colab-badge.svg\" alt=\"Open In Colab\"/></a>"
      ]
    },
    {
      "cell_type": "code",
      "metadata": {
        "colab": {
          "base_uri": "https://localhost:8080/"
        },
        "id": "Q75B3SJm8TmZ",
        "outputId": "ac424ab8-bafb-427f-e5a7-3fffd35c130b"
      },
      "source": [
        "import pandas as pd\r\n",
        "s1=pd.Series([1,2,3,4,5])\r\n",
        "s1"
      ],
      "execution_count": 3,
      "outputs": [
        {
          "output_type": "execute_result",
          "data": {
            "text/plain": [
              "0    1\n",
              "1    2\n",
              "2    3\n",
              "3    4\n",
              "4    5\n",
              "dtype: int64"
            ]
          },
          "metadata": {
            "tags": []
          },
          "execution_count": 3
        }
      ]
    },
    {
      "cell_type": "code",
      "metadata": {
        "colab": {
          "base_uri": "https://localhost:8080/"
        },
        "id": "ejzJN6ze8_Sw",
        "outputId": "78ec3aca-c086-4354-8761-72bd35235b67"
      },
      "source": [
        "type(s1)"
      ],
      "execution_count": 4,
      "outputs": [
        {
          "output_type": "execute_result",
          "data": {
            "text/plain": [
              "pandas.core.series.Series"
            ]
          },
          "metadata": {
            "tags": []
          },
          "execution_count": 4
        }
      ]
    },
    {
      "cell_type": "code",
      "metadata": {
        "colab": {
          "base_uri": "https://localhost:8080/"
        },
        "id": "cWF_TfgwCDkF",
        "outputId": "c1c01642-088d-415b-9a8b-e574982efb39"
      },
      "source": [
        "s1=pd.Series([1,2,3,4,5], index=['a','b','c','d','e'])\r\n",
        "s1"
      ],
      "execution_count": 5,
      "outputs": [
        {
          "output_type": "execute_result",
          "data": {
            "text/plain": [
              "a    1\n",
              "b    2\n",
              "c    3\n",
              "d    4\n",
              "e    5\n",
              "dtype: int64"
            ]
          },
          "metadata": {
            "tags": []
          },
          "execution_count": 5
        }
      ]
    },
    {
      "cell_type": "code",
      "metadata": {
        "colab": {
          "base_uri": "https://localhost:8080/"
        },
        "id": "HhyIg9goC5eQ",
        "outputId": "9ede54a8-de16-4702-8f0d-dfe82ad86324"
      },
      "source": [
        "s1=pd.Series([1,2,3,4,5], index=['let me think','b','c','d','e'])\r\n",
        "s1"
      ],
      "execution_count": 6,
      "outputs": [
        {
          "output_type": "execute_result",
          "data": {
            "text/plain": [
              "let me think    1\n",
              "b               2\n",
              "c               3\n",
              "d               4\n",
              "e               5\n",
              "dtype: int64"
            ]
          },
          "metadata": {
            "tags": []
          },
          "execution_count": 6
        }
      ]
    },
    {
      "cell_type": "code",
      "metadata": {
        "id": "hahaA0DJDB2U"
      },
      "source": [
        "pd.Series({'a':23,})"
      ],
      "execution_count": null,
      "outputs": []
    }
  ]
}